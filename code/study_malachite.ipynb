{
 "cells": [
  {
   "cell_type": "markdown",
   "metadata": {},
   "source": [
    "# Simulated malachite study using random data"
   ]
  },
  {
   "cell_type": "code",
   "execution_count": 1,
   "metadata": {},
   "outputs": [],
   "source": [
    "# Import some packages.\n",
    "import os\n",
    "import numpy as np\n",
    "from matplotlib import pyplot as plt\n",
    "from numpy import random as rnd\n",
    "from scipy import stats\n",
    "\n",
    "# Initialize pseudo-random number generator.\n",
    "rnd.seed(123456789)"
   ]
  },
  {
   "cell_type": "markdown",
   "metadata": {},
   "source": [
    "## Define study protocol (randomized controlled trial)"
   ]
  },
  {
   "cell_type": "code",
   "execution_count": 2,
   "metadata": {},
   "outputs": [],
   "source": [
    "# Set number of study participants for each group.\n",
    "n = 10\n",
    "\n",
    "def perform_study(n):\n",
    "    # Assume number of malware infections follow exponential distribution.\n",
    "    a = [rnd.exponential(scale=3) for k in range(n)]\n",
    "    b = [rnd.exponential(scale=3) for k in range(n)]\n",
    "\n",
    "    return (a, b)"
   ]
  },
  {
   "cell_type": "markdown",
   "metadata": {},
   "source": [
    "## Perform single study"
   ]
  },
  {
   "cell_type": "code",
   "execution_count": 3,
   "metadata": {},
   "outputs": [
    {
     "name": "stdout",
     "output_type": "stream",
     "text": [
      "Mean malware infections in each group:\n",
      "malachite=2.89, placebo=2.09, p=0.36\n"
     ]
    }
   ],
   "source": [
    "a, b = perform_study(n)\n",
    "\n",
    "# H_0: crystal has NO effect beyond placebo\n",
    "# H_1: crystal HAS an effect beyond placebo\n",
    "t, p = stats.ttest_ind(a, b)\n",
    "\n",
    "print(\"Mean malware infections in each group:\")\n",
    "print(\"malachite=%.2f, placebo=%.2f, p=%.2f\" % (np.mean(a), np.mean(b), p))"
   ]
  },
  {
   "cell_type": "markdown",
   "metadata": {},
   "source": [
    "## Perform a couple of studies"
   ]
  },
  {
   "cell_type": "code",
   "execution_count": 4,
   "metadata": {},
   "outputs": [
    {
     "name": "stdout",
     "output_type": "stream",
     "text": [
      "malachite=3.12, placebo=4.63, p=0.34 \n",
      "malachite=4.19, placebo=2.44, p=0.35 \n",
      "malachite=2.56, placebo=4.19, p=0.28 \n",
      "malachite=1.78, placebo=2.41, p=0.61 \n",
      "malachite=2.90, placebo=2.94, p=0.96 \n",
      "malachite=2.46, placebo=2.03, p=0.54 \n",
      "malachite=2.26, placebo=2.69, p=0.74 \n",
      "malachite=3.74, placebo=1.36, p=0.04 *\n",
      "malachite=1.74, placebo=1.31, p=0.55 \n",
      "malachite=3.59, placebo=1.65, p=0.15 \n",
      "malachite=2.15, placebo=2.83, p=0.45 \n",
      "malachite=2.32, placebo=2.68, p=0.69 \n",
      "malachite=2.35, placebo=0.98, p=0.09 \n",
      "malachite=3.91, placebo=3.86, p=0.98 \n",
      "malachite=3.09, placebo=2.30, p=0.44 \n",
      "malachite=2.28, placebo=2.78, p=0.70 \n",
      "malachite=2.33, placebo=2.62, p=0.77 \n",
      "malachite=2.87, placebo=3.93, p=0.60 \n",
      "malachite=3.93, placebo=3.15, p=0.54 \n",
      "malachite=3.66, placebo=4.05, p=0.79 \n"
     ]
    }
   ],
   "source": [
    "# Run a number of studies.\n",
    "num_studies = 20\n",
    "\n",
    "for k in range(num_studies):\n",
    "\n",
    "    a, b = perform_study(n)\n",
    "    t, p = stats.ttest_ind(a, b)\n",
    "    \n",
    "    print(\"malachite=%.2f, placebo=%.2f, p=%.2f %s\"\n",
    "              % (np.mean(a), np.mean(b), p, '*' if p < 0.05 else ''))\n",
    "    "
   ]
  }
 ],
 "metadata": {
  "kernelspec": {
   "display_name": "Python 3",
   "language": "python",
   "name": "python3"
  },
  "language_info": {
   "codemirror_mode": {
    "name": "ipython",
    "version": 3
   },
   "file_extension": ".py",
   "mimetype": "text/x-python",
   "name": "python",
   "nbconvert_exporter": "python",
   "pygments_lexer": "ipython3",
   "version": "3.7.5"
  }
 },
 "nbformat": 4,
 "nbformat_minor": 2
}
